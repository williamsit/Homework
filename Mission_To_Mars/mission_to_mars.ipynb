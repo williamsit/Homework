{
 "cells": [
  {
   "cell_type": "markdown",
   "metadata": {},
   "source": [
    "# Dependencies\n",
    "### Importing Dependencies and using Splinter"
   ]
  },
  {
   "cell_type": "code",
   "execution_count": 2,
   "metadata": {},
   "outputs": [],
   "source": [
    "import pandas as pd\n",
    "import requests\n",
    "from bs4 import BeautifulSoup as bs\n",
    "from splinter import Browser"
   ]
  },
  {
   "cell_type": "code",
   "execution_count": 3,
   "metadata": {},
   "outputs": [],
   "source": [
    "executable_path = {\"executable_path\": \"chromedriver.exe\"}\n",
    "browser = Browser(\"chrome\", **executable_path, headless=False)"
   ]
  },
  {
   "cell_type": "markdown",
   "metadata": {},
   "source": [
    "# NASA Mars News\n",
    "### Scraping featured article and text from news site"
   ]
  },
  {
   "cell_type": "code",
   "execution_count": 4,
   "metadata": {},
   "outputs": [
    {
     "name": "stdout",
     "output_type": "stream",
     "text": [
      "Six Things to Know About NASA's Opportunity Rover\n",
      "Opportunity's mission is complete. Here are highlights from its time on Mars.\n"
     ]
    }
   ],
   "source": [
    "news_paragraph_url = \"https://mars.nasa.gov/news/\"\n",
    "browser.visit(news_paragraph_url)\n",
    "\n",
    "news_paragraph_html = browser.html\n",
    "news_paragraph_soup = bs(news_paragraph_html, \"html.parser\")\n",
    "\n",
    "news_title = news_paragraph_soup.find(\"div\", class_=\"content_title\").find(\"a\").text\n",
    "news_p = news_paragraph_soup.find(\"div\", class_=\"article_teaser_body\").text\n",
    "\n",
    "print(news_title)\n",
    "print(news_p)"
   ]
  },
  {
   "cell_type": "markdown",
   "metadata": {},
   "source": [
    "# JPL Mars Space Images\n",
    "### Scraping featured image"
   ]
  },
  {
   "cell_type": "code",
   "execution_count": 8,
   "metadata": {},
   "outputs": [
    {
     "name": "stdout",
     "output_type": "stream",
     "text": [
      "/spaceimages/images/wallpaper/PIA18907-1920x1200.jpg\n",
      "https://www.jpl.nasa.gov/spaceimages/images/wallpaper/PIA18907-1920x1200.jpg\n"
     ]
    }
   ],
   "source": [
    "space_images_url = \"https://www.jpl.nasa.gov/spaceimages/?search=&category=Mars\"\n",
    "browser.visit(space_images_url)\n",
    "\n",
    "space_images_html = browser.html\n",
    "featured_image_soup = bs(space_images_html, \"html.parser\")\n",
    "\n",
    "featured_image_link = featured_image_soup.find(\"article\")[\"style\"].replace(\"background-image: url('\", \"\").replace(\"');\", \"\")\n",
    "print(featured_image_link)\n",
    "\n",
    "web_link = \"https://www.jpl.nasa.gov\"\n",
    "featured_image_url = web_link + featured_image_link\n",
    "print(featured_image_url)"
   ]
  },
  {
   "cell_type": "markdown",
   "metadata": {},
   "source": [
    "# Mars Weather\n",
    "### Scraping latest tweet"
   ]
  },
  {
   "cell_type": "code",
   "execution_count": 29,
   "metadata": {},
   "outputs": [
    {
     "name": "stdout",
     "output_type": "stream",
     "text": [
      "Sol 2316 (2019-02-10), high -14C/6F, low -72C/-97F, pressure at 8.14 hPa, daylight 06:47-18:52\n"
     ]
    }
   ],
   "source": [
    "mars_weather_url = \"https://twitter.com/marswxreport?lang=en\"\n",
    "browser.visit(mars_weather_url)\n",
    "\n",
    "mars_weather_html = browser.html\n",
    "mars_weather_soup = bs(mars_weather_html, \"html.parser\")\n",
    "\n",
    "mars_weather_tweets = mars_weather_soup.find_all(\"div\", class_=\"js-tweet-text-container\")\n",
    "for each_tweet in mars_weather_tweets:\n",
    "    tweet_text = each_tweet.find(\"p\").text\n",
    "    if \"pic.twitter.com\" not in tweet_text:\n",
    "        mars_weather = each_tweet.find(\"p\").text\n",
    "        print(mars_weather)\n",
    "        break"
   ]
  },
  {
   "cell_type": "markdown",
   "metadata": {},
   "source": [
    "# Mars Facts\n",
    "### Scraping data as Pandas dataframe"
   ]
  },
  {
   "cell_type": "code",
   "execution_count": 32,
   "metadata": {},
   "outputs": [
    {
     "data": {
      "text/plain": [
       "'<table border=\"1\" class=\"dataframe\">\\n  <thead>\\n    <tr style=\"text-align: right;\">\\n      <th></th>\\n      <th>value</th>\\n    </tr>\\n    <tr>\\n      <th>description</th>\\n      <th></th>\\n    </tr>\\n  </thead>\\n  <tbody>\\n    <tr>\\n      <th>Equatorial Diameter:</th>\\n      <td>6,792 km</td>\\n    </tr>\\n    <tr>\\n      <th>Polar Diameter:</th>\\n      <td>6,752 km</td>\\n    </tr>\\n    <tr>\\n      <th>Mass:</th>\\n      <td>6.42 x 10^23 kg (10.7% Earth)</td>\\n    </tr>\\n    <tr>\\n      <th>Moons:</th>\\n      <td>2 (Phobos &amp; Deimos)</td>\\n    </tr>\\n    <tr>\\n      <th>Orbit Distance:</th>\\n      <td>227,943,824 km (1.52 AU)</td>\\n    </tr>\\n    <tr>\\n      <th>Orbit Period:</th>\\n      <td>687 days (1.9 years)</td>\\n    </tr>\\n    <tr>\\n      <th>Surface Temperature:</th>\\n      <td>-153 to 20 °C</td>\\n    </tr>\\n    <tr>\\n      <th>First Record:</th>\\n      <td>2nd millennium BC</td>\\n    </tr>\\n    <tr>\\n      <th>Recorded By:</th>\\n      <td>Egyptian astronomers</td>\\n    </tr>\\n  </tbody>\\n</table>'"
      ]
     },
     "execution_count": 32,
     "metadata": {},
     "output_type": "execute_result"
    }
   ],
   "source": [
    "mars_facts_url = \"http://space-facts.com/mars/\"\n",
    "\n",
    "mars_facts_df = pd.read_html(mars_facts_url)[0]\n",
    "mars_facts_df.columns=[\"description\", \"value\"]\n",
    "mars_facts_df.set_index(\"description\", inplace=True)\n",
    "mars_facts_df\n",
    "\n",
    "mars_facts_html = mars_facts_df.to_html()\n",
    "mars_facts_html"
   ]
  },
  {
   "cell_type": "markdown",
   "metadata": {},
   "source": [
    "# Mars Hemispheres\n",
    "### Scraping hemisphere images"
   ]
  },
  {
   "cell_type": "code",
   "execution_count": 42,
   "metadata": {},
   "outputs": [
    {
     "name": "stdout",
     "output_type": "stream",
     "text": [
      "{'title': 'Cerberus Hemisphere Enhanced', 'img_url': 'https://astrogeology.usgs.gov/cache/images/cfa62af2557222a02478f1fcd781d445_cerberus_enhanced.tif_full.jpg'}\n",
      "{'title': 'Schiaparelli Hemisphere Enhanced', 'img_url': 'https://astrogeology.usgs.gov/cache/images/3cdd1cbf5e0813bba925c9030d13b62e_schiaparelli_enhanced.tif_full.jpg'}\n",
      "{'title': 'Syrtis Major Hemisphere Enhanced', 'img_url': 'https://astrogeology.usgs.gov/cache/images/ae209b4e408bb6c3e67b6af38168cf28_syrtis_major_enhanced.tif_full.jpg'}\n",
      "{'title': 'Valles Marineris Hemisphere Enhanced', 'img_url': 'https://astrogeology.usgs.gov/cache/images/7cf2da4bf549ed01c17f206327be4db7_valles_marineris_enhanced.tif_full.jpg'}\n"
     ]
    }
   ],
   "source": [
    "mars_hemispheres_link = \"https://astrogeology.usgs.gov\"\n",
    "mars_hemispheres_url = \"https://astrogeology.usgs.gov/search/results?q=hemisphere+enhanced&k1=target&v1=Mars\"\n",
    "browser.visit(mars_hemispheres_url)\n",
    "\n",
    "mars_hemispheres_html = browser.html\n",
    "mars_hemispheres_soup = bs(mars_hemispheres_html, \"html.parser\")\n",
    "\n",
    "hemisphere_image_urls = []\n",
    "\n",
    "mars_hemispheres_list = mars_hemispheres_soup.find_all(\"div\", class_=\"item\")\n",
    "\n",
    "for each_hemisphere in mars_hemispheres_list:\n",
    "    title = each_hemisphere.find(\"h3\").text\n",
    "    \n",
    "    mars_hemispheres_image_link = each_hemisphere.find(\"a\", class_=\"itemLink product-item\")[\"href\"]\n",
    "    mars_hemispheres_download_url = mars_hemispheres_link + mars_hemispheres_image_link\n",
    "    \n",
    "    browser.visit(mars_hemispheres_download_url)\n",
    "    mars_hemispheres_download_html = browser.html\n",
    "    mars_hemispheres_download_soup = bs(mars_hemispheres_download_html, \"html.parser\")\n",
    "    \n",
    "    mars_hemispheres_full_image_link = mars_hemispheres_download_soup.find(\"img\", class_=\"wide-image\")[\"src\"]\n",
    "    mars_hemispheres_image_url = mars_hemispheres_link + mars_hemispheres_full_image_link\n",
    "\n",
    "    hemisphere_image_urls.append({\"title\" : title, \"img_url\" : mars_hemispheres_image_url})\n",
    "    \n",
    "for each_image_url in hemisphere_image_urls:\n",
    "    print(each_image_url)"
   ]
  },
  {
   "cell_type": "markdown",
   "metadata": {},
   "source": [
    "### Quitting splinter"
   ]
  },
  {
   "cell_type": "code",
   "execution_count": 44,
   "metadata": {},
   "outputs": [],
   "source": [
    "browser.quit()"
   ]
  }
 ],
 "metadata": {
  "kernelspec": {
   "display_name": "Python 3",
   "language": "python",
   "name": "python3"
  },
  "language_info": {
   "codemirror_mode": {
    "name": "ipython",
    "version": 3
   },
   "file_extension": ".py",
   "mimetype": "text/x-python",
   "name": "python",
   "nbconvert_exporter": "python",
   "pygments_lexer": "ipython3",
   "version": "3.6.7"
  }
 },
 "nbformat": 4,
 "nbformat_minor": 2
}
